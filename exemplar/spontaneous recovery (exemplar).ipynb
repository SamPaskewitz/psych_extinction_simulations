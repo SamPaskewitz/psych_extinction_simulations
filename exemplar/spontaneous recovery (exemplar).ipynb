{
 "cells": [
  {
   "cell_type": "code",
   "execution_count": 1,
   "metadata": {},
   "outputs": [],
   "source": [
    "import numpy as np\n",
    "import pandas as pd\n",
    "import statsrat as sr\n",
    "import nlopt\n",
    "from statsrat import expr\n",
    "from exemplar_models import *\n",
    "from spont_rec_time_cue import spont_rec\n",
    "from plotnine import *"
   ]
  },
  {
   "cell_type": "code",
   "execution_count": 2,
   "metadata": {},
   "outputs": [
    {
     "name": "stdout",
     "output_type": "stream",
     "text": [
      "            min   max  default\n",
      "decay_rate  0.0  10.0      0.5\n",
      "nu          0.0  10.0      0.0\n",
      "resp_scale  0.0  10.0      1.0\n"
     ]
    }
   ],
   "source": [
    "save_plots = True\n",
    "model = null\n",
    "print(model.pars)\n",
    "\n",
    "par_vals = {'null': [2.0, 1.0, 5.0]}"
   ]
  },
  {
   "cell_type": "code",
   "execution_count": 3,
   "metadata": {},
   "outputs": [],
   "source": [
    "# DO SIMULATIONS\n",
    "\n",
    "ds_dict = {}\n",
    "trials = spont_rec.make_trials('delay0')\n",
    "init_atn = pd.DataFrame(0.001, index = trials.ex_names, columns = trials['x_name'].values)\n",
    "init_atn['cs'] = 1.0\n",
    "init_atn.loc[['ctx.time1.0', 'ctx.time1.0.cs'], 'time'] = 1.0\n",
    "ds_dict[0] = model.simulate(trials, init_atn = init_atn, par_val = par_vals[model.name])\n",
    "\n",
    "trials = spont_rec.make_trials('delayhalf')\n",
    "init_atn = pd.DataFrame(0.001, index = trials.ex_names, columns = trials['x_name'].values)\n",
    "init_atn['cs'] = 1.0\n",
    "init_atn.loc[['ctx.time1.0', 'ctx.time1.0.cs'], 'time'] = 1.0\n",
    "ds_dict[0.5] = model.simulate(trials, init_atn = init_atn, par_val = par_vals[model.name])\n",
    "\n",
    "trials = spont_rec.make_trials('delay1')\n",
    "init_atn = pd.DataFrame(0.001, index = trials.ex_names, columns = trials['x_name'].values)\n",
    "init_atn['cs'] = 1.0\n",
    "init_atn.loc[['ctx.time1.0', 'ctx.time1.0.cs'], 'time'] = 1.0\n",
    "ds_dict[1] = model.simulate(trials, init_atn = init_atn, par_val = par_vals[model.name])\n",
    "\n",
    "trials = spont_rec.make_trials('delay2')\n",
    "init_atn = pd.DataFrame(0.001, index = trials.ex_names, columns = trials['x_name'].values)\n",
    "init_atn['cs'] = 1.0\n",
    "init_atn.loc[['ctx.time1.0', 'ctx.time1.0.cs'], 'time'] = 1.0\n",
    "ds_dict[2] = model.simulate(trials, init_atn = init_atn, par_val = par_vals[model.name])\n",
    "\n",
    "trials = spont_rec.make_trials('delay4')\n",
    "init_atn = pd.DataFrame(0.001, index = trials.ex_names, columns = trials['x_name'].values)\n",
    "init_atn['cs'] = 1.0\n",
    "init_atn.loc[['ctx.time1.0', 'ctx.time1.0.cs'], 'time'] = 1.0\n",
    "ds_dict[4] = model.simulate(trials, init_atn = init_atn, par_val = par_vals[model.name])"
   ]
  },
  {
   "cell_type": "code",
   "execution_count": 4,
   "metadata": {},
   "outputs": [
    {
     "name": "stdout",
     "output_type": "stream",
     "text": [
      "   delay  train_response  test_response   test_pct\n",
      "0    0.0        0.926993       0.667843  72.044019\n",
      "1    0.5        0.926993       0.710626  76.659271\n",
      "2    1.0        0.926993       0.809786  87.356178\n",
      "3    2.0        0.926993       0.852628  91.977844\n",
      "4    4.0        0.926993       0.851424  91.847910\n"
     ]
    }
   ],
   "source": [
    "df = pd.DataFrame({'delay': [0, 0.5, 1, 2, 4], 'train_response': 5*[0], 'test_response': 5*[0]})\n",
    "df = df.set_index('delay', drop = True)\n",
    "for k in ds_dict.keys():\n",
    "    index_train = (ds_dict[k]['stage_name'] == 'pre_ex_test') & (ds_dict[k]['t_name'] == 'main')\n",
    "    df.loc[k, 'train_response'] = ds_dict[k]['b'].loc[{'t': index_train}].mean().values\n",
    "    index_test = (ds_dict[k]['stage_name'] == 'test') & (ds_dict[k]['t_name'] == 'main')\n",
    "    df.loc[k, 'test_response'] = ds_dict[k]['b'].loc[{'t': index_test}].mean().values\n",
    "df = df.reset_index()\n",
    "df['test_pct'] = 100*df['test_response']/df['train_response']\n",
    "print(df)"
   ]
  },
  {
   "cell_type": "code",
   "execution_count": 5,
   "metadata": {},
   "outputs": [
    {
     "name": "stderr",
     "output_type": "stream",
     "text": [
      "/opt/anaconda3/lib/python3.8/site-packages/plotnine/ggplot.py:727: PlotnineWarning: Saving 6.4 x 4.8 in image.\n",
      "/opt/anaconda3/lib/python3.8/site-packages/plotnine/ggplot.py:730: PlotnineWarning: Filename: plots/exemplar_spont_rec_b_null.jpeg\n"
     ]
    },
    {
     "data": {
      "image/png": "[encoded data removed]",
      "text/plain": [
       "<Figure size 640x480 with 1 Axes>"
      ]
     },
     "metadata": {},
     "output_type": "display_data"
    }
   ],
   "source": [
    "# Note that recovery can never truly reach 100%, because the CS -> US association\n",
    "# has decreased at least a little.\n",
    "plot_b = (ggplot(df, aes(x = 'delay', y = 'test_pct')) + geom_line() + geom_point())\n",
    "plot_b += ylab('% recovery (b)')\n",
    "plot_b += theme_classic()\n",
    "plot_b.draw()\n",
    "if save_plots:\n",
    "    plot_b.save(filename = 'plots/exemplar_spont_rec_b_' + model.name + '.jpeg', dpi = 500)"
   ]
  },
  {
   "cell_type": "code",
   "execution_count": 6,
   "metadata": {},
   "outputs": [],
   "source": [
    "#if model.name == 'grad_common':\n",
    "#    sr.learn_plot(ds3, var = 'atn', color_var = 'x_name', sel = {'ex_name': ds3['ex_name'].values[0]}).draw()\n",
    "#else:\n",
    "#    sr.learn_plot(ds3, var = 'atn', color_var = 'x_name', facet_var = 'ex_name').draw()"
   ]
  },
  {
   "cell_type": "code",
   "execution_count": null,
   "metadata": {},
   "outputs": [],
   "source": []
  }
 ],
 "metadata": {
  "kernelspec": {
   "display_name": "Python 3",
   "language": "python",
   "name": "python3"
  },
  "language_info": {
   "codemirror_mode": {
    "name": "ipython",
    "version": 3
   },
   "file_extension": ".py",
   "mimetype": "text/x-python",
   "name": "python",
   "nbconvert_exporter": "python",
   "pygments_lexer": "ipython3",
   "version": "3.8.5"
  }
 },
 "nbformat": 4,
 "nbformat_minor": 4
}
