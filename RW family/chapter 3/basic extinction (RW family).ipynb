{
 "cells": [
  {
   "cell_type": "code",
   "execution_count": 1,
   "metadata": {},
   "outputs": [],
   "source": [
    "import numpy as np\n",
    "import pandas as pd\n",
    "import statsrat as sr\n",
    "import nlopt\n",
    "from plotnine import *\n",
    "from basic_extinction import nc_extn, ctx_extn\n",
    "from extn_rw_models import *"
   ]
  },
  {
   "cell_type": "code",
   "execution_count": 2,
   "metadata": {},
   "outputs": [
    {
     "name": "stdout",
     "output_type": "stream",
     "text": [
      "basic extinction (no context cue) \n",
      "\n"
     ]
    },
    {
     "name": "stderr",
     "output_type": "stream",
     "text": [
      "/opt/anaconda3/lib/python3.8/site-packages/plotnine/ggplot.py:727: PlotnineWarning: Saving 4.0 x 4.0 in image.\n",
      "/opt/anaconda3/lib/python3.8/site-packages/plotnine/ggplot.py:730: PlotnineWarning: Filename: plots/rw_nc_extn_b.jpeg\n",
      "/opt/anaconda3/lib/python3.8/site-packages/plotnine/ggplot.py:727: PlotnineWarning: Saving 4.0 x 4.0 in image.\n",
      "/opt/anaconda3/lib/python3.8/site-packages/plotnine/ggplot.py:730: PlotnineWarning: Filename: plots/rw_nc_extn_w.jpeg\n"
     ]
    }
   ],
   "source": [
    "print('basic extinction (no context cue) \\n')\n",
    "\n",
    "par_val = [0.2, 5]\n",
    "trials_nc = nc_extn.make_trials()\n",
    "ds_nc = elem.simulate(trials_nc, par_val)\n",
    "plot_nc_b = sr.learn_plot(ds_nc, var = 'b', only_main = True, draw_points = True)\n",
    "plot_nc_b.save(filename = 'plots/rw_nc_extn_b.jpeg', dpi = 300)\n",
    "plot_nc_w = sr.learn_plot(ds_nc, var = 'w') + geom_hline(yintercept = 0, linetype = \"dashed\")\n",
    "plot_nc_w.save(filename = 'plots/rw_nc_extn_w.jpeg', dpi = 300)"
   ]
  },
  {
   "cell_type": "code",
   "execution_count": 3,
   "metadata": {},
   "outputs": [
    {
     "name": "stdout",
     "output_type": "stream",
     "text": [
      "basic extinction (with context cue) \n",
      "\n"
     ]
    },
    {
     "name": "stderr",
     "output_type": "stream",
     "text": [
      "/opt/anaconda3/lib/python3.8/site-packages/plotnine/ggplot.py:727: PlotnineWarning: Saving 4.0 x 4.0 in image.\n",
      "/opt/anaconda3/lib/python3.8/site-packages/plotnine/ggplot.py:730: PlotnineWarning: Filename: plots/rw_ctx_extn_b.jpeg\n",
      "/opt/anaconda3/lib/python3.8/site-packages/plotnine/ggplot.py:727: PlotnineWarning: Saving 4.0 x 4.0 in image.\n",
      "/opt/anaconda3/lib/python3.8/site-packages/plotnine/ggplot.py:730: PlotnineWarning: Filename: plots/rw_ctx_extn_w.jpeg\n"
     ]
    }
   ],
   "source": [
    "print('basic extinction (with context cue) \\n')\n",
    "\n",
    "par_val = [0.2, 5]\n",
    "trials_ctx = ctx_extn.make_trials()\n",
    "ds_ctx = elem.simulate(trials_ctx, par_val)\n",
    "plot_ctx_b = sr.learn_plot(ds_ctx, var = 'b', only_main = True, draw_points = True)\n",
    "plot_ctx_b.save(filename = 'plots/rw_ctx_extn_b.jpeg', dpi = 300)\n",
    "plot_ctx_w = sr.learn_plot(ds_ctx, var = 'w') + geom_hline(yintercept = 0, linetype = \"dashed\")\n",
    "plot_ctx_w.save(filename = 'plots/rw_ctx_extn_w.jpeg', dpi = 300)"
   ]
  },
  {
   "cell_type": "code",
   "execution_count": null,
   "metadata": {},
   "outputs": [],
   "source": []
  }
 ],
 "metadata": {
  "kernelspec": {
   "display_name": "Python 3",
   "language": "python",
   "name": "python3"
  },
  "language_info": {
   "codemirror_mode": {
    "name": "ipython",
    "version": 3
   },
   "file_extension": ".py",
   "mimetype": "text/x-python",
   "name": "python",
   "nbconvert_exporter": "python",
   "pygments_lexer": "ipython3",
   "version": "3.8.5"
  }
 },
 "nbformat": 4,
 "nbformat_minor": 4
}
