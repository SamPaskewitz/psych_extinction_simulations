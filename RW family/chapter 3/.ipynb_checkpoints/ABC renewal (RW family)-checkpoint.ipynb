{
 "cells": [
  {
   "cell_type": "code",
   "execution_count": null,
   "metadata": {},
   "outputs": [],
   "source": [
    "import numpy as np\n",
    "import pandas as pd\n",
    "import statsrat as sr\n",
    "from plotnine import *\n",
    "from statsrat.expr.predef.pvl_iti import abc_renewal\n",
    "from statsrat.expr.predef.cat import *\n",
    "from extn_rw_models import *"
   ]
  },
  {
   "cell_type": "code",
   "execution_count": null,
   "metadata": {},
   "outputs": [],
   "source": [
    "model = elem\n",
    "#model = refined\n",
    "#model = revised_CompAct\n",
    "save_plots = True\n",
    "print(model.pars)\n",
    "\n",
    "par_vals = {'elem': [0.2, 5],\n",
    "            'refined': [0.001, 0.2, 1.5, 5.0],\n",
    "            'revised_CompAct': [0.01, 2.0, 0.1, 8.0, 1.0, 5]}"
   ]
  },
  {
   "cell_type": "code",
   "execution_count": null,
   "metadata": {},
   "outputs": [],
   "source": [
    "print('ABC renewal \\n')\n",
    "\n",
    "trials = abc_renewal.make_trials('experimental')\n",
    "ds_exp = model.simulate(trials, par_vals[model.name])\n",
    "\n",
    "trials = abc_renewal.make_trials('control')\n",
    "ds_ctl = model.simulate(trials, par_vals[model.name])\n",
    "\n",
    "print(abc_renewal.oats['renewal'].compute_total({'experimental': ds_exp, 'control': ds_ctl}))\n",
    "print(abc_renewal.oats['renewal'].mean_resp({'experimental': ds_exp, 'control': ds_ctl}))"
   ]
  },
  {
   "cell_type": "code",
   "execution_count": null,
   "metadata": {},
   "outputs": [],
   "source": [
    "print(ds_ctl.attrs['schedule'])\n",
    "plot_b = sr.multi_plot([ds_exp, ds_ctl],\n",
    "                       var = 'b',\n",
    "                       rename_coords = {'schedule': 'group'},\n",
    "                       rename_schedules = {'control': 'abb', 'experimental': 'abc'},\n",
    "                       only_main = True,\n",
    "                       draw_points = True,\n",
    "                       dodge_width = 1.5)\n",
    "plot_b += scale_color_manual(values = {'abc': 'red', 'abb': 'blue'})\n",
    "plot_b.draw()\n",
    "if save_plots:\n",
    "    plot_b.save(filename = 'plots/rw_abc_b_' + model.name + '.jpeg', dpi = 300)"
   ]
  },
  {
   "cell_type": "code",
   "execution_count": null,
   "metadata": {},
   "outputs": [],
   "source": [
    "plot_w = sr.learn_plot(ds_exp,\n",
    "                       var = 'w',\n",
    "                       rename_coords = {'f_name': 'feature'},\n",
    "                       sel = {'t': ds_exp['stage_name'].isin(['cond', 'extinction', 'test'])},\n",
    "                       dodge_width = 1.5)\n",
    "plot_w += geom_hline(yintercept = 0, linetype = \"dashed\")\n",
    "plot_w.draw()\n",
    "if save_plots:\n",
    "    plot_w.save(filename = 'plots/rw_abc_w_' + model.name + '.jpeg', dpi = 300)"
   ]
  },
  {
   "cell_type": "code",
   "execution_count": null,
   "metadata": {},
   "outputs": [],
   "source": []
  }
 ],
 "metadata": {
  "kernelspec": {
   "display_name": "Python 3",
   "language": "python",
   "name": "python3"
  },
  "language_info": {
   "codemirror_mode": {
    "name": "ipython",
    "version": 3
   },
   "file_extension": ".py",
   "mimetype": "text/x-python",
   "name": "python",
   "nbconvert_exporter": "python",
   "pygments_lexer": "ipython3",
   "version": "3.8.5"
  }
 },
 "nbformat": 4,
 "nbformat_minor": 4
}
