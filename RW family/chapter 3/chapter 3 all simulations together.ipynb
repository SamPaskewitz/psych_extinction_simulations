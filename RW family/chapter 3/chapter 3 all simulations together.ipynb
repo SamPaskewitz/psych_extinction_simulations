{
 "cells": [
  {
   "cell_type": "code",
   "execution_count": 10,
   "metadata": {},
   "outputs": [],
   "source": [
    "import numpy as np\n",
    "import pandas as pd\n",
    "import statsrat as sr\n",
    "from statsrat.expr.predef.pvl_iti import *\n",
    "from oc_renewal import oc_renewal\n",
    "from spont_rec_explicit import spont_rec\n",
    "from extn_rw_models import *\n",
    "from plotnine import *"
   ]
  },
  {
   "cell_type": "code",
   "execution_count": 53,
   "metadata": {},
   "outputs": [
    {
     "name": "stdout",
     "output_type": "stream",
     "text": [
      "            min   max  default\n",
      "drate       0.0   0.5     0.25\n",
      "lrate_min   0.0   0.5     0.10\n",
      "power       0.0   2.0     0.50\n",
      "resp_scale  0.0  10.0     1.00\n"
     ]
    }
   ],
   "source": [
    "# This noteboook puts all Chapter 3 simulations together.\n",
    "# Unlike the notebooks for individual simulations, this notebook\n",
    "# does not include graphs.\n",
    "\n",
    "# The \"refined\" model (with equal weights for elemental and configural features)\n",
    "# is having trouble producing both AAB renewal and latent inhibition with the same parameter settings.\n",
    "\n",
    "# The 'power_decay' model (which is the same as the \"refined\" model, except that it\n",
    "# lacks configural features) has an easier time producing AAB renewal and latent\n",
    "# inhibition with the same parameters.\n",
    "\n",
    "#model = elem\n",
    "model = power_decay\n",
    "#model = refined\n",
    "print(model.pars)\n",
    "\n",
    "par_vals = {'elem': [0.2, 5],\n",
    "            'power_decay': [0.001, 0.1, 2.0, 5.0],\n",
    "            'refined': [0.01, 0.01, 2.0, 5.0]}"
   ]
  },
  {
   "cell_type": "code",
   "execution_count": 54,
   "metadata": {},
   "outputs": [
    {
     "name": "stdout",
     "output_type": "stream",
     "text": [
      "ABA renewal \n",
      "\n",
      "0.13170375575972537\n",
      "       schedule     trial_name u_name  mean_resp\n",
      "0  experimental  cs -> nothing     us   0.783291\n",
      "0       control  cs -> nothing     us   0.651587\n"
     ]
    }
   ],
   "source": [
    "print('ABA renewal \\n')\n",
    "\n",
    "trials = aba_renewal.make_trials('experimental')\n",
    "ds_exp = model.simulate(trials, par_vals[model.name])\n",
    "\n",
    "trials = aba_renewal.make_trials('control')\n",
    "ds_ctl = model.simulate(trials, par_vals[model.name])\n",
    "\n",
    "print(aba_renewal.oats['renewal'].compute_total({'experimental': ds_exp, 'control': ds_ctl}))\n",
    "print(aba_renewal.oats['renewal'].mean_resp({'experimental': ds_exp, 'control': ds_ctl}))"
   ]
  },
  {
   "cell_type": "code",
   "execution_count": 55,
   "metadata": {},
   "outputs": [
    {
     "name": "stdout",
     "output_type": "stream",
     "text": [
      "ABC renewal \n",
      "\n",
      "0.11384378399669204\n",
      "       schedule     trial_name u_name  mean_resp\n",
      "0  experimental  cs -> nothing     us   0.748916\n",
      "0       control  cs -> nothing     us   0.635072\n"
     ]
    }
   ],
   "source": [
    "print('ABC renewal \\n')\n",
    "\n",
    "trials = abc_renewal.make_trials('experimental')\n",
    "ds_exp = model.simulate(trials, par_vals[model.name])\n",
    "\n",
    "trials = abc_renewal.make_trials('control')\n",
    "ds_ctl = model.simulate(trials, par_vals[model.name])\n",
    "\n",
    "print(abc_renewal.oats['renewal'].compute_total({'experimental': ds_exp, 'control': ds_ctl}))\n",
    "print(abc_renewal.oats['renewal'].mean_resp({'experimental': ds_exp, 'control': ds_ctl}))"
   ]
  },
  {
   "cell_type": "code",
   "execution_count": 56,
   "metadata": {},
   "outputs": [
    {
     "name": "stdout",
     "output_type": "stream",
     "text": [
      "AAB renewal \n",
      "\n",
      "0.0821429949871163\n",
      "       schedule     trial_name u_name  mean_resp\n",
      "0  experimental  cs -> nothing     us   0.733730\n",
      "0       control  cs -> nothing     us   0.651587\n"
     ]
    }
   ],
   "source": [
    "print('AAB renewal \\n')\n",
    "\n",
    "trials = aab_renewal.make_trials('experimental')\n",
    "ds_exp = model.simulate(trials, par_vals[model.name])\n",
    "\n",
    "trials = aab_renewal.make_trials('control')\n",
    "ds_ctl = model.simulate(trials, par_vals[model.name])\n",
    "\n",
    "print(aab_renewal.oats['renewal'].compute_total({'experimental': ds_exp, 'control': ds_ctl}))\n",
    "print(aab_renewal.oats['renewal'].mean_resp({'experimental': ds_exp, 'control': ds_ctl}))"
   ]
  },
  {
   "cell_type": "code",
   "execution_count": 57,
   "metadata": {},
   "outputs": [
    {
     "name": "stdout",
     "output_type": "stream",
     "text": [
      "occasion setting renewal \n",
      "\n",
      "0.0027414319916234664\n",
      "    schedule      trial_name u_name  mean_resp\n",
      "0  different  cs1 -> nothing     us   0.517712\n",
      "0       same  cs1 -> nothing     us   0.514971\n"
     ]
    }
   ],
   "source": [
    "print('occasion setting renewal \\n')\n",
    "\n",
    "trials = oc_renewal.make_trials('different')\n",
    "ds_diff = model.simulate(trials, par_vals[model.name])\n",
    "\n",
    "trials = oc_renewal.make_trials('same')\n",
    "ds_same = model.simulate(trials, par_vals[model.name])\n",
    "\n",
    "print(oc_renewal.oats['renewal'].compute_total({'different': ds_diff, 'same': ds_same}))\n",
    "print(oc_renewal.oats['renewal'].mean_resp({'different': ds_diff, 'same': ds_same}))"
   ]
  },
  {
   "cell_type": "code",
   "execution_count": 58,
   "metadata": {},
   "outputs": [
    {
     "name": "stdout",
     "output_type": "stream",
     "text": [
      "spontaneous recovery \n",
      "\n",
      "   delay  train_response  test_response   test_pct\n",
      "0      0        0.950099       0.518019  54.522677\n",
      "1     50        0.950099       0.533147  56.114869\n",
      "2    100        0.950099       0.547480  57.623486\n",
      "3    200        0.950099       0.573858  60.399805\n",
      "4    400        0.950099       0.618271  65.074345\n"
     ]
    }
   ],
   "source": [
    "print('spontaneous recovery \\n')\n",
    "\n",
    "ds_dict = {}\n",
    "ds_dict[0] = model.simulate(spont_rec.make_trials('delay0'), par_vals[model.name])\n",
    "ds_dict[50] = model.simulate(spont_rec.make_trials('delay50'), par_vals[model.name])\n",
    "ds_dict[100] = model.simulate(spont_rec.make_trials('delay100'), par_vals[model.name])\n",
    "ds_dict[200] = model.simulate(spont_rec.make_trials('delay200'), par_vals[model.name])\n",
    "ds_dict[400] = model.simulate(spont_rec.make_trials('delay400'), par_vals[model.name])\n",
    "\n",
    "df = pd.DataFrame({'delay': [0, 50, 100, 200, 400], 'train_response': 5*[0], 'test_response': 5*[0]})\n",
    "df = df.set_index('delay', drop = True)\n",
    "for k in ds_dict.keys():\n",
    "    index_train = (ds_dict[k]['stage_name'] == 'pre-extn test') & (ds_dict[k]['t_name'] == 'main')\n",
    "    df.loc[k, 'train_response'] = ds_dict[k]['b'].loc[{'t': index_train}].mean().values\n",
    "    index_test = (ds_dict[k]['stage_name'] == 'spont rec test') & (ds_dict[k]['t_name'] == 'main')\n",
    "    df.loc[k, 'test_response'] = ds_dict[k]['b'].loc[{'t': index_test}].max().values\n",
    "df = df.reset_index()\n",
    "df['test_pct'] = 100*df['test_response']/df['train_response']\n",
    "print(df)\n",
    "\n",
    "plot_b = (ggplot(df, aes(x = 'delay', y = 'test_pct')) + geom_line() + geom_point())\n",
    "plot_b += theme_classic()\n",
    "plot_b += ylab('% recovery (b)')"
   ]
  },
  {
   "cell_type": "code",
   "execution_count": 59,
   "metadata": {},
   "outputs": [
    {
     "name": "stdout",
     "output_type": "stream",
     "text": [
      "reinstatement \n",
      "\n",
      "0.1263147767702515\n",
      "       schedule     trial_name u_name  mean_resp\n",
      "0  experimental  cs -> nothing     us   0.780648\n",
      "0       control  cs -> nothing     us   0.654333\n"
     ]
    }
   ],
   "source": [
    "print('reinstatement \\n')\n",
    "\n",
    "trials = reinstatement.make_trials('experimental')\n",
    "ds_exp = model.simulate(trials, par_vals[model.name])\n",
    "ds_exp['schedule'] = 'extra shock'\n",
    "\n",
    "trials = reinstatement.make_trials('control')\n",
    "ds_ctl = model.simulate(trials, par_vals[model.name])\n",
    "ds_ctl['schedule'] = 'no extra shock (control)'\n",
    "\n",
    "print(reinstatement.oats['reinstatement'].compute_total({'experimental': ds_exp, 'control': ds_ctl}))\n",
    "print(reinstatement.oats['reinstatement'].mean_resp({'experimental': ds_exp, 'control': ds_ctl}))"
   ]
  },
  {
   "cell_type": "code",
   "execution_count": 60,
   "metadata": {},
   "outputs": [
    {
     "name": "stdout",
     "output_type": "stream",
     "text": [
      "latent inhibition \n",
      "\n",
      "0.042626809260577936\n",
      "       schedule     trial_name u_name  mean_resp\n",
      "0       control  cs -> nothing     us   0.860484\n",
      "0  experimental  cs -> nothing     us   0.817857\n"
     ]
    }
   ],
   "source": [
    "print('latent inhibition \\n')\n",
    "\n",
    "trials = latent_inhib.make_trials('experimental')\n",
    "ds_exp = model.simulate(trials, par_vals[model.name])\n",
    "\n",
    "trials = latent_inhib.make_trials('control')\n",
    "ds_ctl = model.simulate(trials, par_vals[model.name])\n",
    "\n",
    "print(latent_inhib.oats['latent_inhibition'].compute_total({'experimental': ds_exp, 'control': ds_ctl}))\n",
    "print(latent_inhib.oats['latent_inhibition'].mean_resp({'experimental': ds_exp, 'control': ds_ctl}))"
   ]
  },
  {
   "cell_type": "code",
   "execution_count": null,
   "metadata": {},
   "outputs": [],
   "source": []
  }
 ],
 "metadata": {
  "kernelspec": {
   "display_name": "Python 3",
   "language": "python",
   "name": "python3"
  },
  "language_info": {
   "codemirror_mode": {
    "name": "ipython",
    "version": 3
   },
   "file_extension": ".py",
   "mimetype": "text/x-python",
   "name": "python",
   "nbconvert_exporter": "python",
   "pygments_lexer": "ipython3",
   "version": "3.8.5"
  }
 },
 "nbformat": 4,
 "nbformat_minor": 4
}
