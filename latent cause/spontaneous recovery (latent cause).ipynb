{
 "cells": [
  {
   "cell_type": "code",
   "execution_count": 6,
   "metadata": {},
   "outputs": [],
   "source": [
    "import numpy as np\n",
    "import pandas as pd\n",
    "import statsrat as sr\n",
    "from statsrat import latent_cause as lc\n",
    "from statsrat.expr.predef.pvl_no_iti import spont_rec_imp as task\n",
    "from plotnine import *"
   ]
  },
  {
   "cell_type": "code",
   "execution_count": 7,
   "metadata": {},
   "outputs": [
    {
     "name": "stdout",
     "output_type": "stream",
     "text": [
      "               min   max  default  \\\n",
      "power         0.00   5.0      1.0   \n",
      "prior_tau2_x  0.01  10.0      1.0   \n",
      "prior_nu_x    1.00  10.0      5.0   \n",
      "prior_tau2_y  0.01  10.0      1.0   \n",
      "prior_nu_y    1.00  10.0      5.0   \n",
      "stick         0.00   5.0      1.0   \n",
      "alpha         0.00  15.0      1.0   \n",
      "resp_scale    0.00  10.0      1.0   \n",
      "\n",
      "                                                    description  \n",
      "power         decay rate for power law SCRP; higher -> favor...  \n",
      "prior_tau2_x                 prior hyperparameter for eta for x  \n",
      "prior_nu_x                   prior hyperparameter for eta for x  \n",
      "prior_tau2_y                 prior hyperparameter for eta for y  \n",
      "prior_nu_y                   prior hyperparameter for eta for y  \n",
      "stick                                  stickiness for CRP prior  \n",
      "alpha         concentration parameter; higher -> tend to inf...  \n",
      "resp_scale           scales softmax/logistic response functions  \n"
     ]
    }
   ],
   "source": [
    "#model = lc.model(name = 'constant', kernel = lc.kernel.constant)\n",
    "model = lc.model(name = 'power', kernel = lc.kernel.power)\n",
    "print(model.pars)\n",
    "perform_oat = False\n",
    "save_plots = True\n",
    "\n",
    "method = 'local_vb'\n",
    "#method = 'particle'\n",
    "\n",
    "prior_tau2_x = 1.0\n",
    "prior_nu_x = 5.0\n",
    "prior_tau2_y = 0.2\n",
    "prior_nu_y = 1.0\n",
    "alpha = 1.0\n",
    "stick = 0.0\n",
    "power = 0.3\n",
    "\n",
    "par_vals = {'constant': [prior_tau2_x, prior_nu_x, prior_tau2_y, prior_nu_y, stick, alpha, 5.0],\n",
    "            'power': [power, prior_tau2_x, prior_nu_x, prior_tau2_y, prior_nu_y, stick, alpha, 5.0]}"
   ]
  },
  {
   "cell_type": "code",
   "execution_count": null,
   "metadata": {},
   "outputs": [
    {
     "name": "stdout",
     "output_type": "stream",
     "text": [
      "spontaneous recovery \n",
      "\n"
     ]
    }
   ],
   "source": [
    "print('spontaneous recovery \\n')\n",
    "\n",
    "trials_exp = task.make_trials('experimental')\n",
    "trials_ctl = task.make_trials('control')\n",
    "\n",
    "if method == 'particle':\n",
    "    ds_exp = model.particle_filter(trials_exp, par_vals[model.name])\n",
    "    ds_ctl = model.particle_filter(trials_ctl, par_vals[model.name])\n",
    "    #sr.multi_plot([ds_exp, ds_ctl], var = 'b', dodge_width = 0.2).draw()\n",
    "    #sr.multi_plot([ds_exp, ds_ctl], var = 'mean_N', dodge_width = 0.2).draw()\n",
    "else:\n",
    "    ds_exp = model.simulate(trials_exp, par_vals[model.name])\n",
    "    ds_ctl = model.simulate(trials_ctl, par_vals[model.name])\n",
    "    #sr.multi_plot([ds_exp, ds_ctl], var = 'b', dodge_width = 0.2).draw()\n",
    "    #sr.learn_plot(ds_exp, var = 'E_log_prior', sel = {'z_name': ['0', '1', '2']}).draw()\n",
    "    #sr.multi_plot([ds_exp, ds_ctl], var = 'N', dodge_width = 0.2).draw()\n",
    "\n",
    "plot_b = sr.multi_plot([ds_exp, ds_ctl],\n",
    "                        var = 'b',\n",
    "                        draw_points = True,\n",
    "                        dodge_width = 0.2,\n",
    "                        rename_coords = {'schedule': 'group'},\n",
    "                        rename_schedules = {'control': 'control', 'experimental': 'delay'},\n",
    "                        sel = 2*[{'t': ds_exp['stage_name'].isin(['cond', 'extinction', 'test'])}])\n",
    "plot_b += scale_color_manual(values = {'delay': 'red', 'control': 'blue'})\n",
    "plot_b.draw()\n",
    "if save_plots:\n",
    "    plot_b.save(filename = 'plots/latent_cause_spont_rec_b_' + model.name + '.jpeg', dpi = 300)\n",
    "    \n",
    "oat_name = list(task.oats.keys())[0]\n",
    "print(task.oats[oat_name].compute_total({'experimental': ds_exp, 'control': ds_ctl}))\n",
    "print(task.oats[oat_name].mean_resp({'experimental': ds_exp, 'control': ds_ctl}))"
   ]
  },
  {
   "cell_type": "code",
   "execution_count": null,
   "metadata": {},
   "outputs": [],
   "source": [
    "if method == 'local_vb':\n",
    "    print('experimental condition \\n')\n",
    "\n",
    "    df_exp = ds_exp['z'].to_dataframe()\n",
    "    table_exp = pd.crosstab(df_exp['z'], df_exp['ex'])\n",
    "    print(ds_exp['z'].values)\n",
    "    print(table_exp)\n",
    "    \n",
    "    print('control condition \\n')\n",
    "\n",
    "    df_ctl = ds_ctl['z'].to_dataframe()\n",
    "    table_ctl = pd.crosstab(df_ctl['z'], df_ctl['ex'])\n",
    "    print(ds_ctl['z'].values)\n",
    "    print(table_ctl)\n",
    "    \n",
    "    plot_r = sr.learn_plot(ds_exp,\n",
    "                           var = 'phi_x',\n",
    "                           rename_coords = {'z_name': 'latent_cause'},\n",
    "                           sel = {'z_name': ['0', '1', '2']})\n",
    "    plot_r += ylab('r')\n",
    "    plot_r.draw()\n",
    "    if save_plots:\n",
    "        plot_r.save(filename = 'plots/latent_cause_spont_rec_r_' + model.name + '.jpeg', dpi = 300)"
   ]
  },
  {
   "cell_type": "code",
   "execution_count": null,
   "metadata": {},
   "outputs": [],
   "source": [
    "if perform_oat:\n",
    "    n_dict = {'local_vb': 1, 'particle': 10}\n",
    "    oat_result = sr.perform_oat(model = model,\n",
    "                                experiment = task,\n",
    "                                n = n_dict[method],\n",
    "                                minimize = False,\n",
    "                                sim_type = method,\n",
    "                                max_time = 60)\n",
    "    print(np.round(oat_result[0], 5))\n",
    "    print(np.round(oat_result[1], 3))"
   ]
  },
  {
   "cell_type": "code",
   "execution_count": null,
   "metadata": {},
   "outputs": [],
   "source": []
  }
 ],
 "metadata": {
  "kernelspec": {
   "display_name": "Python 3",
   "language": "python",
   "name": "python3"
  },
  "language_info": {
   "codemirror_mode": {
    "name": "ipython",
    "version": 3
   },
   "file_extension": ".py",
   "mimetype": "text/x-python",
   "name": "python",
   "nbconvert_exporter": "python",
   "pygments_lexer": "ipython3",
   "version": "3.8.5"
  }
 },
 "nbformat": 4,
 "nbformat_minor": 4
}
