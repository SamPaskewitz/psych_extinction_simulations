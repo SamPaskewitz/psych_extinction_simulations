{
 "cells": [
  {
   "cell_type": "code",
   "execution_count": 3,
   "metadata": {},
   "outputs": [],
   "source": [
    "import numpy as np\n",
    "import pandas as pd\n",
    "import statsrat as sr\n",
    "from statsrat import latent_cause as lc\n",
    "from statsrat.expr.predef.pvl_no_iti import aba_renewal as task\n",
    "from plotnine import *"
   ]
  },
  {
   "cell_type": "code",
   "execution_count": 6,
   "metadata": {},
   "outputs": [
    {
     "name": "stdout",
     "output_type": "stream",
     "text": [
      "               min   max  default  \\\n",
      "power         0.00   5.0      1.0   \n",
      "prior_tau2_x  0.01  10.0      1.0   \n",
      "prior_nu_x    1.00  10.0      5.0   \n",
      "prior_tau2_y  0.01  10.0      1.0   \n",
      "prior_nu_y    1.00  10.0      5.0   \n",
      "stick         0.00   5.0      1.0   \n",
      "alpha         0.00  15.0      1.0   \n",
      "resp_scale    0.00  10.0      1.0   \n",
      "\n",
      "                                                    description  \n",
      "power         decay rate for power law SCRP; higher -> favor...  \n",
      "prior_tau2_x                 prior hyperparameter for eta for x  \n",
      "prior_nu_x                   prior hyperparameter for eta for x  \n",
      "prior_tau2_y                 prior hyperparameter for eta for y  \n",
      "prior_nu_y                   prior hyperparameter for eta for y  \n",
      "stick                                  stickiness for CRP prior  \n",
      "alpha         concentration parameter; higher -> tend to inf...  \n",
      "resp_scale           scales softmax/logistic response functions  \n"
     ]
    }
   ],
   "source": [
    "#model = lc.model(name = 'constant', kernel = lc.kernel.constant)\n",
    "model = lc.model(name = 'power', kernel = lc.kernel.power)\n",
    "print(model.pars)\n",
    "save_plots = True\n",
    "\n",
    "method = 'local_vb'\n",
    "#method = 'particle'\n",
    "\n",
    "prior_tau2_x = 1.0\n",
    "prior_nu_x = 5.0\n",
    "prior_tau2_y = 0.5\n",
    "prior_nu_y = 2.0\n",
    "alpha = 2.0\n",
    "stick = 0.0\n",
    "power = 1.0\n",
    "\n",
    "par_vals = {'constant': [prior_tau2_x, prior_nu_x, prior_tau2_y, prior_nu_y, stick, alpha, 5.0],\n",
    "            'power': [power, prior_tau2_x, prior_nu_x, prior_tau2_y, prior_nu_y, stick, alpha, 5.0]}"
   ]
  },
  {
   "cell_type": "code",
   "execution_count": 7,
   "metadata": {},
   "outputs": [
    {
     "name": "stdout",
     "output_type": "stream",
     "text": [
      "ABA renewal \n",
      "\n",
      "[0 0 0 0 0 0 0 0 0 0 0 0]\n",
      "ex  ctx_a.cs  ctx_b.cs\n",
      "z                     \n",
      "0          7         5\n"
     ]
    },
    {
     "name": "stderr",
     "output_type": "stream",
     "text": [
      "/opt/anaconda3/lib/python3.8/site-packages/plotnine/ggplot.py:727: PlotnineWarning: Saving 4.0 x 4.0 in image.\n",
      "/opt/anaconda3/lib/python3.8/site-packages/plotnine/ggplot.py:730: PlotnineWarning: Filename: plots/latent_cause_aba_b_power.jpeg\n"
     ]
    },
    {
     "name": "stdout",
     "output_type": "stream",
     "text": [
      "-7.790106270610941e-06\n",
      "       schedule     trial_name u_name  mean_resp\n",
      "0  experimental  cs -> nothing     us   0.897923\n",
      "0       control  cs -> nothing     us   0.897931\n"
     ]
    },
    {
     "data": {
      "image/png": "[encoded data removed]",
      "text/plain": [
       "<Figure size 400x400 with 1 Axes>"
      ]
     },
     "metadata": {},
     "output_type": "display_data"
    }
   ],
   "source": [
    "print('ABA renewal \\n')\n",
    "\n",
    "trials_exp = task.make_trials('experimental')\n",
    "trials_ctl = task.make_trials('control')\n",
    "\n",
    "if method == 'particle':\n",
    "    ds_exp = model.particle_filter(trials_exp, par_vals[model.name], n_p = 100)\n",
    "    ds_ctl = model.particle_filter(trials_ctl, par_vals[model.name], n_p = 100)\n",
    "    #sr.multi_plot([ds_exp, ds_ctl], var = 'mean_N').draw()\n",
    "else:\n",
    "    ds_exp = model.simulate(trials_exp, par_vals[model.name])\n",
    "    ds_ctl = model.simulate(trials_ctl, par_vals[model.name])\n",
    "    #sr.multi_plot([ds_exp, ds_ctl], var = 'N').draw()\n",
    "    df = ds_exp['z'].to_dataframe()\n",
    "    table = pd.crosstab(df['z'], df['ex'])\n",
    "    print(ds_exp['z'].values)\n",
    "    print(table)\n",
    "    \n",
    "plot_b = sr.multi_plot([ds_exp, ds_ctl],\n",
    "                        var = 'b',\n",
    "                        draw_points = True,\n",
    "                        dodge_width = 0.2,\n",
    "                        rename_coords = {'schedule': 'group'},\n",
    "                        rename_schedules = {'control': 'aaa', 'experimental': 'aba'})\n",
    "plot_b += scale_color_manual(values = {'aba': 'red', 'aaa': 'blue'})\n",
    "plot_b.draw()\n",
    "if save_plots:\n",
    "    plot_b.save(filename = 'plots/latent_cause_aba_b_' + model.name + '.jpeg', dpi = 500)\n",
    "\n",
    "oat_name = list(task.oats.keys())[0]\n",
    "print(task.oats[oat_name].compute_total({'experimental': ds_exp, 'control': ds_ctl}))\n",
    "print(task.oats[oat_name].mean_resp({'experimental': ds_exp, 'control': ds_ctl}))"
   ]
  },
  {
   "cell_type": "code",
   "execution_count": null,
   "metadata": {},
   "outputs": [],
   "source": []
  }
 ],
 "metadata": {
  "kernelspec": {
   "display_name": "Python 3",
   "language": "python",
   "name": "python3"
  },
  "language_info": {
   "codemirror_mode": {
    "name": "ipython",
    "version": 3
   },
   "file_extension": ".py",
   "mimetype": "text/x-python",
   "name": "python",
   "nbconvert_exporter": "python",
   "pygments_lexer": "ipython3",
   "version": "3.8.5"
  }
 },
 "nbformat": 4,
 "nbformat_minor": 4
}
