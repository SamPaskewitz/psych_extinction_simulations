{
 "cells": [
  {
   "cell_type": "code",
   "execution_count": 1,
   "metadata": {},
   "outputs": [],
   "source": [
    "import numpy as np\n",
    "import pandas as pd\n",
    "import statsrat as sr\n",
    "from statsrat import latent_cause as lc\n",
    "from statsrat.expr.predef.pvl_iti import aab_renewal as task"
   ]
  },
  {
   "cell_type": "code",
   "execution_count": 2,
   "metadata": {},
   "outputs": [
    {
     "name": "stdout",
     "output_type": "stream",
     "text": [
      "               min   max  default  \\\n",
      "prior_tau2_x  0.01  10.0      1.0   \n",
      "prior_nu_x    0.01  10.0      5.0   \n",
      "prior_tau2_y  0.01  10.0      1.0   \n",
      "prior_nu_y    0.01  10.0      5.0   \n",
      "stick         0.00   5.0      1.0   \n",
      "alpha         0.00  15.0      1.0   \n",
      "resp_scale    0.00  10.0      1.0   \n",
      "\n",
      "                                                    description  \n",
      "prior_tau2_x                 prior hyperparameter for eta for x  \n",
      "prior_nu_x                   prior hyperparameter for eta for x  \n",
      "prior_tau2_y                 prior hyperparameter for eta for y  \n",
      "prior_nu_y                   prior hyperparameter for eta for y  \n",
      "stick                                  stickiness for CRP prior  \n",
      "alpha         concentration parameter; higher -> tend to inf...  \n",
      "resp_scale           scales softmax/logistic response functions  \n",
      "\n",
      "prior mean precision for x = 10.0\n",
      "prior mean precision for y = 25.0\n"
     ]
    }
   ],
   "source": [
    "model = lc.model(name = 'constant', kernel = lc.kernel.constant)\n",
    "#model = lc.model(name = 'power', kernel = lc.kernel.power)\n",
    "#model = lc.model(name = 'exponential', kernel = lc.kernel.exponential)\n",
    "print(model.pars)\n",
    "\n",
    "#method = 'particle'\n",
    "method = 'local_vb'\n",
    "perform_oat = True\n",
    "\n",
    "prior_tau2_x = 0.5\n",
    "prior_tau2_y = 0.2\n",
    "prior_n = 2.0\n",
    "alpha = 2.0\n",
    "stick = 0.0\n",
    "power = 5.0\n",
    "gamma = 2.0\n",
    "\n",
    "pm_prec_x = (prior_n*(prior_n + 3))/(prior_n*prior_tau2_x - 0**2)\n",
    "pm_prec_y = (prior_n*(prior_n + 3))/(prior_n*prior_tau2_y - 0**2)\n",
    "print('\\nprior mean precision for x = ' + str(np.round(pm_prec_x, 2)))\n",
    "print('prior mean precision for y = ' + str(np.round(pm_prec_y, 2)))\n",
    "\n",
    "par_vals = {'constant': [prior_tau2_x, prior_n, prior_tau2_y, prior_n, stick, alpha, 5.0],\n",
    "            'power': [power, prior_tau2_x, prior_n, prior_tau2_y, prior_n, stick, alpha, 5.0],\n",
    "            'exponential': [gamma, prior_tau2_x, prior_n, prior_tau2_y, prior_n, stick, alpha, 5.0]}"
   ]
  },
  {
   "cell_type": "code",
   "execution_count": 3,
   "metadata": {},
   "outputs": [
    {
     "name": "stdout",
     "output_type": "stream",
     "text": [
      "AAB renewal \n",
      "\n",
      "-0.0006904449632303411\n",
      "       schedule     trial_name u_name  mean_resp\n",
      "0  experimental  cs -> nothing     us   0.855190\n",
      "0       control  cs -> nothing     us   0.855881\n"
     ]
    }
   ],
   "source": [
    "print('AAB renewal \\n')\n",
    "\n",
    "trials_exp = task.make_trials('experimental')\n",
    "trials_ctl = task.make_trials('control')\n",
    "\n",
    "if method == 'particle':\n",
    "    ds_exp = model.particle_filter(trials_exp, par_vals[model.name], n_p = 50)\n",
    "    ds_ctl = model.particle_filter(trials_ctl, par_vals[model.name], n_p = 50)\n",
    "    sr.multi_plot([ds_exp, ds_ctl], var = 'b', dodge_width = 0.2).draw()\n",
    "    sr.multi_plot([ds_exp, ds_ctl], var = 'mean_N', dodge_width = 0.2).draw()\n",
    "else:\n",
    "    ds_exp = model.simulate(trials_exp, par_vals[model.name])\n",
    "    ds_ctl = model.simulate(trials_ctl, par_vals[model.name])\n",
    "\n",
    "oat_name = list(task.oats.keys())[0]\n",
    "print(task.oats[oat_name].compute_total({'experimental': ds_exp, 'control': ds_ctl}))\n",
    "print(task.oats[oat_name].mean_resp({'experimental': ds_exp, 'control': ds_ctl}))"
   ]
  },
  {
   "cell_type": "code",
   "execution_count": 4,
   "metadata": {},
   "outputs": [],
   "source": [
    "if method == 'local':\n",
    "    print('experimental condition \\n')\n",
    "\n",
    "    df_exp = ds_exp['z'].to_dataframe()\n",
    "    table_exp = pd.crosstab(df_exp['z'], df_exp['ex'])\n",
    "    print(ds_exp['z'].values)\n",
    "    print(table_exp)\n",
    "    \n",
    "    print('control condition \\n')\n",
    "\n",
    "    df_ctl = ds_ctl['z'].to_dataframe()\n",
    "    table_ctl = pd.crosstab(df_ctl['z'], df_ctl['ex'])\n",
    "    print(ds_ctl['z'].values)\n",
    "    print(table_ctl)\n",
    "    \n",
    "    sel = {'z_name': ['0', '1', '2', '3']}\n",
    "    sr.learn_plot(ds_exp, var = 'phi_x', sel = sel, only_main = True).draw()\n",
    "    sr.learn_plot(ds_exp, var = 'est_mu_y', sel = sel).draw()\n",
    "    sr.learn_plot(ds_exp, var = 'est_mu_x', sel = sel).draw()\n",
    "    sr.learn_plot(ds_exp, var = 'est_precision_x', sel = sel).draw()"
   ]
  },
  {
   "cell_type": "code",
   "execution_count": 5,
   "metadata": {},
   "outputs": [
    {
     "name": "stdout",
     "output_type": "stream",
     "text": [
      "Maximizing OAT score.\n",
      "     prior_tau2_x  prior_nu_x  prior_tau2_y  prior_nu_y  stick  alpha    mean  \\\n",
      "max         7.502       5.005        1.6757       5.005    2.5    7.5  0.0006   \n",
      "\n",
      "      lower   upper  \n",
      "max  0.0006  0.0006  \n",
      "       schedule     trial_name u_name  mean_resp\n",
      "0  experimental  cs -> nothing     us     0.5453\n",
      "0       control  cs -> nothing     us     0.5447\n"
     ]
    }
   ],
   "source": [
    "if perform_oat:\n",
    "    n_dict = {'local_vb': 1, 'particle': 10}\n",
    "    oat_result = sr.perform_oat(model = model,\n",
    "                                experiment = task,\n",
    "                                n = n_dict[method],\n",
    "                                minimize = False,\n",
    "                                sim_type = method)\n",
    "    print(np.round(oat_result[0], 4))\n",
    "    print(np.round(oat_result[1], 4))"
   ]
  },
  {
   "cell_type": "code",
   "execution_count": null,
   "metadata": {},
   "outputs": [],
   "source": []
  }
 ],
 "metadata": {
  "kernelspec": {
   "display_name": "Python 3",
   "language": "python",
   "name": "python3"
  },
  "language_info": {
   "codemirror_mode": {
    "name": "ipython",
    "version": 3
   },
   "file_extension": ".py",
   "mimetype": "text/x-python",
   "name": "python",
   "nbconvert_exporter": "python",
   "pygments_lexer": "ipython3",
   "version": "3.8.5"
  }
 },
 "nbformat": 4,
 "nbformat_minor": 4
}
