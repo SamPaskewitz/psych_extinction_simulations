{
 "cells": [
  {
   "cell_type": "code",
   "execution_count": 8,
   "metadata": {},
   "outputs": [],
   "source": [
    "import numpy as np\n",
    "import pandas as pd\n",
    "from plotnine import *"
   ]
  },
  {
   "cell_type": "code",
   "execution_count": 9,
   "metadata": {},
   "outputs": [
    {
     "ename": "ValueError",
     "evalue": "Integers to negative integer powers are not allowed.",
     "output_type": "error",
     "traceback": [
      "\u001b[0;31m---------------------------------------------------------------------------\u001b[0m",
      "\u001b[0;31mValueError\u001b[0m                                Traceback (most recent call last)",
      "\u001b[0;32m<ipython-input-9-c538a1ae998b>\u001b[0m in \u001b[0;36m<module>\u001b[0;34m\u001b[0m\n\u001b[1;32m     14\u001b[0m \u001b[0mprior2\u001b[0m \u001b[0;34m=\u001b[0m \u001b[0mnp\u001b[0m\u001b[0;34m.\u001b[0m\u001b[0mzeros\u001b[0m\u001b[0;34m(\u001b[0m\u001b[0;36m4\u001b[0m\u001b[0;34m)\u001b[0m\u001b[0;34m\u001b[0m\u001b[0;34m\u001b[0m\u001b[0m\n\u001b[1;32m     15\u001b[0m \u001b[0;32mfor\u001b[0m \u001b[0mi\u001b[0m \u001b[0;32min\u001b[0m \u001b[0mrange\u001b[0m\u001b[0;34m(\u001b[0m\u001b[0;36m4\u001b[0m\u001b[0;34m)\u001b[0m\u001b[0;34m:\u001b[0m\u001b[0;34m\u001b[0m\u001b[0;34m\u001b[0m\u001b[0m\n\u001b[0;32m---> 16\u001b[0;31m     \u001b[0mkernel_sum0\u001b[0m \u001b[0;34m=\u001b[0m \u001b[0mnp\u001b[0m\u001b[0;34m.\u001b[0m\u001b[0msum\u001b[0m\u001b[0;34m(\u001b[0m\u001b[0;34m(\u001b[0m\u001b[0mnew_time\u001b[0m\u001b[0;34m[\u001b[0m\u001b[0mi\u001b[0m\u001b[0;34m]\u001b[0m \u001b[0;34m-\u001b[0m \u001b[0mtime0\u001b[0m\u001b[0;34m)\u001b[0m\u001b[0;34m**\u001b[0m\u001b[0;34m(\u001b[0m\u001b[0;34m-\u001b[0m\u001b[0mpower\u001b[0m\u001b[0;34m)\u001b[0m\u001b[0;34m)\u001b[0m\u001b[0;34m\u001b[0m\u001b[0;34m\u001b[0m\u001b[0m\n\u001b[0m\u001b[1;32m     17\u001b[0m     \u001b[0mkernel_sum1\u001b[0m \u001b[0;34m=\u001b[0m \u001b[0mnp\u001b[0m\u001b[0;34m.\u001b[0m\u001b[0msum\u001b[0m\u001b[0;34m(\u001b[0m\u001b[0;34m(\u001b[0m\u001b[0mnew_time\u001b[0m\u001b[0;34m[\u001b[0m\u001b[0mi\u001b[0m\u001b[0;34m]\u001b[0m \u001b[0;34m-\u001b[0m \u001b[0mtime1\u001b[0m\u001b[0;34m)\u001b[0m\u001b[0;34m**\u001b[0m\u001b[0;34m(\u001b[0m\u001b[0;34m-\u001b[0m\u001b[0mpower\u001b[0m\u001b[0;34m)\u001b[0m\u001b[0;34m)\u001b[0m\u001b[0;34m\u001b[0m\u001b[0;34m\u001b[0m\u001b[0m\n\u001b[1;32m     18\u001b[0m     \u001b[0mdenominator\u001b[0m \u001b[0;34m=\u001b[0m \u001b[0mkernel_sum0\u001b[0m \u001b[0;34m+\u001b[0m \u001b[0mkernel_sum1\u001b[0m \u001b[0;34m+\u001b[0m \u001b[0malpha\u001b[0m\u001b[0;34m\u001b[0m\u001b[0;34m\u001b[0m\u001b[0m\n",
      "\u001b[0;31mValueError\u001b[0m: Integers to negative integer powers are not allowed."
     ]
    }
   ],
   "source": [
    "# It is assumed that latent cause 0 (conditioning) was active on the first 5 time steps,\n",
    "# followed by latent cause 1 (extinction) on the next 5 steps, followed by a delay of varying length.\n",
    "# 0 = conditioning latent cause; 1 = extinction latent cause; 2 = new latent cause\n",
    "power = 1 # power parameter of sequential CRP prior\n",
    "alpha = 1 # concentration parameter of sequential CRP prior\n",
    "time0 = np.array([0, 1, 2, 3, 4], dtype = 'float') # times that conditioning latent cause is active\n",
    "time1 = np.array([5, 6, 7, 8, 9], dtype = 'float') # times that extinction latent cause is active\n",
    "delays = [50, 100, 200, 400] # delays of varying length\n",
    "new_time = 9 + np.array(delays, dtype = 'float') # times after the delay\n",
    "\n",
    "# loop through delays\n",
    "prior0 = np.zeros(4)\n",
    "prior1 = np.zeros(4)\n",
    "prior2 = np.zeros(4)\n",
    "for i in range(4):\n",
    "    kernel_sum0 = np.sum((new_time[i] - time0)**(-power))\n",
    "    kernel_sum1 = np.sum((new_time[i] - time1)**(-power))\n",
    "    denominator = kernel_sum0 + kernel_sum1 + alpha\n",
    "    prior0[i] = kernel_sum0/denominator # conditioning latent cause\n",
    "    prior1[i] = kernel_sum1/denominator # extinction latent cause\n",
    "    prior2[i] = alpha/denominator # new latent cause\n",
    "df = pd.DataFrame({'prior': np.concatenate([prior0, prior1, prior2]),\n",
    "                   'latent_cause': 5*[0] + 5*[1] + 5*[2],\n",
    "                   'delay': 3*[50, 100, 200, 400]})\n",
    "\n",
    "plot = ggplot(df, aes(x = 'delay', color = 'latent_cause', y = 'prior'))\n",
    "plot += geom_line()\n",
    "plot.draw()\n",
    "print()"
   ]
  },
  {
   "cell_type": "code",
   "execution_count": null,
   "metadata": {},
   "outputs": [],
   "source": []
  }
 ],
 "metadata": {
  "kernelspec": {
   "display_name": "Python 3",
   "language": "python",
   "name": "python3"
  },
  "language_info": {
   "codemirror_mode": {
    "name": "ipython",
    "version": 3
   },
   "file_extension": ".py",
   "mimetype": "text/x-python",
   "name": "python",
   "nbconvert_exporter": "python",
   "pygments_lexer": "ipython3",
   "version": "3.8.5"
  }
 },
 "nbformat": 4,
 "nbformat_minor": 4
}
